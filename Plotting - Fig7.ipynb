{
 "cells": [
  {
   "cell_type": "code",
   "execution_count": null,
   "id": "a57af05a",
   "metadata": {},
   "outputs": [],
   "source": [
    "# first cell imports all the necessary packages, functions, and classes\n",
    "import sys\n",
    "import os\n",
    "sys.path.append(os.path.abspath(os.path.join(os.getcwd(), os.pardir)))\n",
    "from analysis_classes import *\n",
    "from analysis_funcs_and_consts import *\n",
    "\n",
    "#set font to arial\n",
    "plt.rcParams['font.family'] = 'Arial'\n",
    "FR_vec_color = '0.9'\n",
    "FR_vec_width = 1.5\n",
    "\n",
    "\n"
   ]
  },
  {
   "cell_type": "code",
   "execution_count": null,
   "id": "bf3164f3",
   "metadata": {},
   "outputs": [],
   "source": [
    "#get a dictionary with all cells as Cell objects\n",
    "db_Analysis = DB_Analysis()\n",
    "db_conditions = {(True, STRAIN) :['CKII', 'SST']}\n",
    "params={}\n",
    "result = db_Analysis.run_analysis_func('median ISI', db_conditions, Cell.calc_isi, params, all=False, save=False)"
   ]
  },
  {
   "cell_type": "code",
   "execution_count": null,
   "id": "37e8cfcb",
   "metadata": {},
   "outputs": [],
   "source": [
    "results_dir = r'Z:\\Adam-Lab-Shared\\FromExperimentToAnalysis\\Rotem\\data_analysis\\result_dictionaries'\n",
    "remapping_dir = f'{results_dir}/remapping'\n",
    "\n",
    "# Load remapping data\n",
    "with open(f'{remapping_dir}/FR_mats.pkl', 'rb') as f:\n",
    "    FR_matrices_remap = pickle.load(f)\n",
    "with open(f'{remapping_dir}/is_PC_dicts.pkl', 'rb') as f:\n",
    "    is_PC_dicts_remap = pickle.load(f)\n",
    "\n",
    "# Load regular data\n",
    "with open(f'{results_dir}/FR_mats.pkl', 'rb') as f:\n",
    "    FR_matrices_reg = pickle.load(f)\n",
    "with open(f'{results_dir}/is_PC.pkl', 'rb') as f:\n",
    "    is_PC_dicts_reg = pickle.load(f)"
   ]
  },
  {
   "cell_type": "markdown",
   "id": "804edfc6",
   "metadata": {},
   "source": [
    "# Fig 7 - Remapping A"
   ]
  },
  {
   "cell_type": "code",
   "execution_count": null,
   "id": "f5a44426",
   "metadata": {},
   "outputs": [],
   "source": [
    "## functions - move to class if all works well\n",
    "\n",
    "def is_speed_tuned_on_cell(cell):\n",
    "    if cell.remapping==True:\n",
    "        nov_df,fam_df=cell.get_fam_and_novel_df()\n",
    "        is_tuned_F=is_speed_tuned_on_df(cell,df=fam_df)\n",
    "        is_tuned_N=is_speed_tuned_on_df(cell,df=nov_df)\n",
    "        return [is_tuned_F,is_tuned_N]    \n",
    "    else:\n",
    "        is_tuned=is_speed_tuned_on_df(cell)\n",
    "        return [is_tuned]   \n",
    "\n",
    "\n",
    "\n",
    "def is_speed_tuned_on_df(cell,p_val_threshold=0.01,df=None):\n",
    "    #using 100ms time bin (frame rate is cell.metadata['frame_rate']), calculate the firing rate in each bin\n",
    "    if df is None:\n",
    "        df=cell.exp.data\n",
    "    # df=df[(~df['position'].between(107,128))] #removing RZ bins\n",
    "    df=df[df['speed']>=20]\n",
    "    spikes_col=\"spikes_cell_\"+str(cell.cell_num)\n",
    "    spike_times=cell.spikes\n",
    "    #bin the data into 100ms bins\n",
    "    df=df.reset_index(drop=True)\n",
    "    df['time']=df['TS_time']-df['TS_time'][0]\n",
    "    df['binned_time']=pd.cut(df['time'],bins=round(len(df)/cell.metadata['frame_rate']),labels=False)\n",
    "    #count the number of spikes in each bin\n",
    "    df['spikes_per_bin']=df.groupby('binned_time')[spikes_col].transform('sum')\n",
    "    df['speed_per_bin']=df.groupby('binned_time')['speed'].transform('mean')\n",
    "    #bin the speed per bin into 5 bins\n",
    "    df['binned_speed']=pd.cut(df['speed_per_bin'],bins=20,labels=False)\n",
    "    #count the number of spikes in each bin\n",
    "    spikes_per_bin=df.groupby('binned_speed')['spikes_per_bin'].sum()\n",
    "    #count the number of frames in each bin\n",
    "    frames_per_bin=df.groupby('binned_speed')['spikes_per_bin'].count()\n",
    "    #take into account only bins with more than 1% of the frames\n",
    "    spikes_per_bin=spikes_per_bin[frames_per_bin>0.01*len(df)]\n",
    "    frames_per_bin=frames_per_bin[frames_per_bin>0.01*len(df)]\n",
    "    #divide to get the firing rate in each bin\n",
    "    FR_per_bin=(spikes_per_bin/frames_per_bin)\n",
    "    # FR_per_bin=smooth(FR_per_bin,3)\n",
    "    #turn ndarray to pandas series\n",
    "    FR_per_bin=pd.Series(FR_per_bin,index=spikes_per_bin.index)\n",
    "    slope, intercept, r_value, p_value, std_err = stats.linregress(FR_per_bin.index,FR_per_bin)\n",
    "    if p_value<p_val_threshold:\n",
    "        return True\n",
    "    else:\n",
    "        return False"
   ]
  },
  {
   "cell_type": "markdown",
   "id": "1053e837",
   "metadata": {},
   "source": [
    "## Single cell examples"
   ]
  },
  {
   "cell_type": "code",
   "execution_count": null,
   "id": "c562a859",
   "metadata": {},
   "outputs": [],
   "source": [
    "from mpl_toolkits.axes_grid1 import make_axes_locatable\n",
    "\n",
    "def plot_single_cell_heatmap_remap(cell,part='first_half',save=False, with_colorbar=False,max_val=None):\n",
    "    FR_mat = FR_mats_with_halves_all_cells[cell.strain][cell.name][part]\n",
    "    FR_vec=np.mean(FR_mat,axis=0)\n",
    "    FR_vec = smooth(FR_vec,3)\n",
    "    if max_val == None:\n",
    "        max_val=np.round(np.max(FR_vec),1)\n",
    "    figsize_mm = (16, 16)\n",
    "    if with_colorbar:\n",
    "        # Add extra space for the colorbar, e.g., 5mm\n",
    "        additional_width_mm = figsize_mm[0] * (0.335) # 20 * 0.15 = 3mm 0.05 is for the colorbar, 0.1 is for the padding\n",
    "        figsize_mm = (figsize_mm[0] + additional_width_mm, figsize_mm[1])\n",
    "    figsize_inch = (figsize_mm[0] / 25.4, figsize_mm[1] / 25.4)\n",
    "    fig, ax = plt.subplots(figsize=figsize_inch)\n",
    "\n",
    "    img = ax.imshow(FR_mat, aspect='auto', cmap='viridis')\n",
    "    yticks_labels = [FR_mat.shape[0]]\n",
    "    plt.yticks([FR_mat.shape[0] - 1], yticks_labels, fontsize=SVG_TICKS)\n",
    "\n",
    "    ax.spines['top'].set_visible(False)\n",
    "    ax.spines['right'].set_visible(False)\n",
    "    ax.yaxis.set_tick_params(width=0,pad=0)\n",
    "\n",
    "    ax2 = ax.twinx()\n",
    "    ax2.plot(FR_vec, color='#e6e6e6', linewidth=1)\n",
    "    # ax2.plot(FR_vec, color='0.9', linewidth=1.5)\n",
    "    ax2.set_ylim(0, max_val)\n",
    "    # yticks_labels = [int(round(max_val,1))]\n",
    "    # ax2.set_yticks([round(max_val,1)], yticks_labels, color='k', fontsize=SVG_TICKS)\n",
    "    ax2.set_yticks([])\n",
    "    if cell.name == 'SRK1_X_39_1':\n",
    "        xticks_labels = [0, 160]\n",
    "        ax.set_xticks([0, 47], xticks_labels, fontsize=SVG_TICKS)\n",
    "    else:\n",
    "        ax.set_xticks([])\n",
    "\n",
    "    # plt.ylabel('Avg. FR (Hz)', fontsize=SVG_LABELS, color='k', rotation=270, labelpad=5)\n",
    "    #remove top and right spines\n",
    "    ax2.spines['top'].set_visible(False)\n",
    "    ax2.spines['right'].set_visible(False)\n",
    "    ax2.yaxis.set_tick_params(width=0,pad=0)\n",
    "    img.set_clim(0, max_val*2) #used to be 0, max_val*1.5\n",
    "    # make background transparent\n",
    "    fig.patch.set_alpha(0)\n",
    "    if with_colorbar:\n",
    "        cbar = fig.colorbar(img, ax=ax, orientation='vertical', pad=0.1, aspect=15)#, shrink=0.5)\n",
    "        cbar.set_ticks([0, max_val*2])\n",
    "        cbar.set_ticklabels([0, max_val*2])\n",
    "        cbar.ax.tick_params(labelsize=SVG_TICKS)\n",
    "        cbar.outline.set_visible(False)\n",
    "        cbar.ax.yaxis.set_tick_params(width=0,pad=0)\n",
    "    if save:\n",
    "        plt.savefig(r\"\\\\ems.elsc.huji.ac.il\\adam-lab\\Adam-Lab-Shared\\Presentations\\Rotem\\PPT slides of data by subjects\\vectorized_figures\\4-Remapping\\Panels\\Example heatmaps/\"+cell.name+\"_FR_mat_viridis_\"+part+\".svg\",format='svg',bbox_inches='tight',dpi=300)\n",
    "\n",
    "    plt.show()\n",
    "\n",
    "def plot_cell_pair_heatmap_remap(cell, save=False, with_colorbar=False):\n",
    "    FR_mat1 = FR_mats_with_halves_all_cells[cell.strain][cell.name]['first_half']\n",
    "    FR_mat2 = FR_mats_with_halves_all_cells[cell.strain][cell.name]['second_half']\n",
    "    FR_vec1 = np.mean(FR_mat1, axis=0)\n",
    "    FR_vec2 = np.mean(FR_mat2, axis=0)\n",
    "    FR_vec1 = smooth(FR_vec1, 3)\n",
    "    FR_vec2 = smooth(FR_vec2, 3)\n",
    "    max_val = np.round(np.max([FR_vec1, FR_vec2]), 1)\n",
    "    plot_single_cell_heatmap_remap(cell, part='first_half', save=save, with_colorbar=False, max_val=max_val)\n",
    "    plot_single_cell_heatmap_remap(cell, part='second_half', save=save, with_colorbar=with_colorbar, max_val=max_val)"
   ]
  },
  {
   "cell_type": "code",
   "execution_count": null,
   "id": "6468ab62",
   "metadata": {},
   "outputs": [
    {
     "name": "stdout",
     "output_type": "stream",
     "text": [
      "RCK10_R1_22_8\n"
     ]
    },
    {
     "data": {
      "image/png": "[encoded data removed]",
      "text/plain": [
       "<Figure size 45.3543x45.3543 with 2 Axes>"
      ]
     },
     "metadata": {},
     "output_type": "display_data"
    },
    {
     "data": {
      "image/png": "[encoded data removed]",
      "text/plain": [
       "<Figure size 60.548x45.3543 with 3 Axes>"
      ]
     },
     "metadata": {},
     "output_type": "display_data"
    },
    {
     "name": "stdout",
     "output_type": "stream",
     "text": [
      "CRK8_R1_22_4\n"
     ]
    },
    {
     "data": {
      "image/png": "[encoded data removed]",
      "text/plain": [
       "<Figure size 45.3543x45.3543 with 2 Axes>"
      ]
     },
     "metadata": {},
     "output_type": "display_data"
    },
    {
     "data": {
      "image/png": "[encoded data removed]",
      "text/plain": [
       "<Figure size 60.548x45.3543 with 3 Axes>"
      ]
     },
     "metadata": {},
     "output_type": "display_data"
    },
    {
     "name": "stdout",
     "output_type": "stream",
     "text": [
      "SRK1_R1_66_2\n"
     ]
    },
    {
     "data": {
      "image/png": "[encoded data removed]",
      "text/plain": [
       "<Figure size 45.3543x45.3543 with 2 Axes>"
      ]
     },
     "metadata": {},
     "output_type": "display_data"
    },
    {
     "data": {
      "image/png": "[encoded data removed]",
      "text/plain": [
       "<Figure size 60.548x45.3543 with 3 Axes>"
      ]
     },
     "metadata": {},
     "output_type": "display_data"
    },
    {
     "name": "stdout",
     "output_type": "stream",
     "text": [
      "SRK1_R1_66_3\n"
     ]
    },
    {
     "data": {
      "image/png": "[encoded data removed]",
      "text/plain": [
       "<Figure size 45.3543x45.3543 with 2 Axes>"
      ]
     },
     "metadata": {},
     "output_type": "display_data"
    },
    {
     "data": {
      "image/png": "[encoded data removed]",
      "text/plain": [
       "<Figure size 60.548x45.3543 with 3 Axes>"
      ]
     },
     "metadata": {},
     "output_type": "display_data"
    },
    {
     "name": "stdout",
     "output_type": "stream",
     "text": [
      "RCK5_L1_61_2\n"
     ]
    },
    {
     "data": {
      "image/png": "[encoded data removed]",
      "text/plain": [
       "<Figure size 45.3543x45.3543 with 2 Axes>"
      ]
     },
     "metadata": {},
     "output_type": "display_data"
    },
    {
     "data": {
      "image/png": "[encoded data removed]",
      "text/plain": [
       "<Figure size 60.548x45.3543 with 3 Axes>"
      ]
     },
     "metadata": {},
     "output_type": "display_data"
    }
   ],
   "source": [
    "example_names = ['RCK5_L1_61_2', 'CRK8_R1_22_4', 'RCK10_R1_22_8', 'SRK1_R1_66_2', 'SRK1_R1_66_3']\n",
    "remap_cells_lst = [cell for cell in result.keys() if cell.name in example_names]\n",
    "for cell in remap_cells_lst:\n",
    "    print(cell.name)\n",
    "    plot_cell_pair_heatmap_remap(cell, save=False, with_colorbar=True)\n"
   ]
  },
  {
   "cell_type": "markdown",
   "id": "787a2954",
   "metadata": {},
   "source": [
    "## Sorted Heatmaps"
   ]
  },
  {
   "cell_type": "code",
   "execution_count": null,
   "id": "ef341b55",
   "metadata": {},
   "outputs": [],
   "source": [
    "remap_cells = [cell for cell in result.keys() if cell.remapping==True and cell.session_num==0]\n",
    "reg_cells = [cell for cell in result.keys() if cell.remapping==False and cell.session_num==0]"
   ]
  },
  {
   "cell_type": "code",
   "execution_count": null,
   "id": "039d92d5",
   "metadata": {},
   "outputs": [],
   "source": [
    "#split the strains for different criteria in each strain\n",
    "len_vec=48\n",
    "CKII_reg1=np.zeros(len_vec);CKII_reg2=np.zeros(len_vec)\n",
    "CKII_fam=np.zeros(len_vec);CKII_nov=np.zeros(len_vec)\n",
    "SST_reg1=np.zeros(len_vec);SST_reg2=np.zeros(len_vec)\n",
    "SST_fam=np.zeros(len_vec);SST_nov=np.zeros(len_vec)\n",
    "\n",
    "#remaps\n",
    "for cell in remap_cells:\n",
    "    if cell.name == 'CRK8_R1_23_4': #problematic cell\n",
    "        continue\n",
    "    # if is_PC_dicts_remap[cell.strain][cell.name]['fam']==False or is_PC_dicts_remap[cell.strain][cell.name]['nov']==False: # for untuned cells\n",
    "    if is_PC_dicts_remap[cell.strain][cell.name]['fam']==True:\n",
    "            if np.ndim(FR_matrices_remap[cell.strain][cell.name]['fam'])==2 and np.ndim(FR_matrices_remap[cell.strain][cell.name]['nov'])==2:\n",
    "                FR_mat_fam = FR_matrices_remap[cell.strain][cell.name]['fam']\n",
    "                FR_mat_nov = FR_matrices_remap[cell.strain][cell.name]['nov']\n",
    "            FR_vec_fam=np.mean(FR_mat_fam,axis=0)\n",
    "            FR_vec_fam=smooth(FR_vec_fam,3)\n",
    "            FR_vec_nov=np.mean(FR_mat_nov,axis=0)\n",
    "            FR_vec_nov=smooth(FR_vec_nov,3)\n",
    "            if cell.strain ==\"CKII\":\n",
    "                CKII_fam = np.vstack((CKII_fam,FR_vec_fam))\n",
    "                CKII_nov = np.vstack((CKII_nov,FR_vec_nov))\n",
    "            else:\n",
    "                SST_fam = np.vstack((SST_fam,FR_vec_fam))\n",
    "                SST_nov = np.vstack((SST_nov,FR_vec_nov))\n",
    "\n",
    "#regs\n",
    "for cell in reg_cells:\n",
    "    if cell.name == 'RCK2_X_64_cut_laser_drop_2': #problematic cell\n",
    "        continue\n",
    "    # if is_PC_dicts_reg[cell.strain][cell.name]==False: # for untuned cells\n",
    "    if is_PC_dicts_reg[cell.strain][cell.name]==True:\n",
    "            FR_mat = FR_matrices_reg[cell.strain][cell.name]\n",
    "            FR_vec_1=np.mean(FR_mat[:int(len(FR_mat)/2)],axis=0)\n",
    "            FR_vec_1=smooth(FR_vec_1,3)\n",
    "            FR_vec_2=np.mean(FR_mat[int(len(FR_mat)/2):],axis=0)\n",
    "            FR_vec_2=smooth(FR_vec_2,3)\n",
    "            if cell.strain ==\"CKII\":\n",
    "                CKII_reg1 = np.vstack((CKII_reg1,FR_vec_1))\n",
    "                CKII_reg2 = np.vstack((CKII_reg2,FR_vec_2))\n",
    "            else:\n",
    "                SST_reg1 = np.vstack((SST_reg1,FR_vec_1))\n",
    "                SST_reg2 = np.vstack((SST_reg2,FR_vec_2))\n",
    "\n",
    "\n",
    "\n",
    "\n"
   ]
  },
  {
   "cell_type": "code",
   "execution_count": null,
   "id": "61fa5a47",
   "metadata": {},
   "outputs": [
    {
     "data": {
      "image/png": "[encoded data removed]",
      "text/plain": [
       "<Figure size 113.386x85.0394 with 2 Axes>"
      ]
     },
     "metadata": {},
     "output_type": "display_data"
    },
    {
     "data": {
      "image/png": "[encoded data removed]",
      "text/plain": [
       "<Figure size 113.386x85.0394 with 2 Axes>"
      ]
     },
     "metadata": {},
     "output_type": "display_data"
    },
    {
     "data": {
      "image/png": "[encoded data removed]",
      "text/plain": [
       "<Figure size 113.386x85.0394 with 2 Axes>"
      ]
     },
     "metadata": {},
     "output_type": "display_data"
    },
    {
     "data": {
      "image/png": "[encoded data removed]",
      "text/plain": [
       "<Figure size 113.386x85.0394 with 2 Axes>"
      ]
     },
     "metadata": {},
     "output_type": "display_data"
    }
   ],
   "source": [
    "# SVG format\n",
    "for strain in ['CKII','SST']:\n",
    "    if strain=='CKII':\n",
    "        spine_color=PYR_COLOR\n",
    "        cmap = 'OrRd'\n",
    "        mat_to_plot_reg1=CKII_reg1 ; mat_to_plot_reg2=CKII_reg2 ; mat_to_plot_fam=CKII_fam ; mat_to_plot_nov=CKII_nov\n",
    "    else:\n",
    "        spine_color=IN_COLOR\n",
    "        cmap = 'GnBu'\n",
    "        mat_to_plot_reg1=SST_reg1 ; mat_to_plot_reg2=SST_reg2 ; mat_to_plot_fam=SST_fam ; mat_to_plot_nov=SST_nov\n",
    "\n",
    "    norm_mat_to_plot_reg1=np.array([normalize(FR_vec) for FR_vec in mat_to_plot_reg1[1:]])\n",
    "    norm_mat_to_plot_reg2=np.array([normalize(FR_vec) for FR_vec in mat_to_plot_reg2[1:]])\n",
    "    norm_mat_to_plot_fam=np.array([normalize(FR_vec) for FR_vec in mat_to_plot_fam[1:]])\n",
    "    norm_mat_to_plot_nov=np.array([normalize(FR_vec) for FR_vec in mat_to_plot_nov[1:]])\n",
    "\n",
    "    #if a row is NaN, replace it with zeros\n",
    "    norm_mat_to_plot_reg1[np.isnan(norm_mat_to_plot_reg1)]=0 ; norm_mat_to_plot_reg2[np.isnan(norm_mat_to_plot_reg2)]=0; norm_mat_to_plot_fam[np.isnan(norm_mat_to_plot_fam)]=0; norm_mat_to_plot_nov[np.isnan(norm_mat_to_plot_nov)]=0; \n",
    "\n",
    "    sorted_norm_array_reg1,sorted_indices_reg1 = sort_rows_by_max_index(norm_mat_to_plot_reg1)\n",
    "    sorted_norm_array_reg2=norm_mat_to_plot_reg2[sorted_indices_reg1]\n",
    "    sorted_norm_array_fam,sorted_indices_fam = sort_rows_by_max_index(norm_mat_to_plot_fam)\n",
    "    sorted_norm_array_nov=norm_mat_to_plot_nov[sorted_indices_fam]\n",
    "\n",
    "\n",
    "\n",
    "    #plot as two subplots \n",
    "    # figsize_mm = (58,40) - original size\n",
    "    figsize_mm = (40,30)\n",
    "    figsize_inch = (figsize_mm[0]/25.4, figsize_mm[1]/25.4)\n",
    "    fig,ax=plt.subplots(1,2,figsize=figsize_inch)\n",
    "    ax[0].imshow(sorted_norm_array_reg1,aspect='auto',cmap=cmap)\n",
    "    ax[0].set_yticks([0,(len(sorted_norm_array_reg1))-1],[1,len(sorted_norm_array_reg1)],fontsize=SVG_TICKS)\n",
    "    if strain=='SST':\n",
    "        ax[0].set_xticks([0,39],[0,160],fontsize=SVG_TICKS)\n",
    "    else:\n",
    "        ax[0].set_xticks([])\n",
    "    ax[0].spines['top'].set_visible(False)\n",
    "    ax[0].spines['right'].set_visible(False)\n",
    "    ax[0].axvline(x=35, color='k',alpha=0.7,linewidth=1)\n",
    "    ax[0].axvline(x=40, color='k',alpha=0.7,linewidth=1)\n",
    "\n",
    "    ax[1].imshow(sorted_norm_array_reg2,aspect='auto',cmap=cmap)\n",
    "    ax[1].set_yticks([])\n",
    "    if strain=='SST':\n",
    "        ax[1].set_xticks([0,39],[0,160],fontsize=SVG_TICKS)\n",
    "    else:\n",
    "        ax[1].set_xticks([])\n",
    "    #remove top and right spines\n",
    "    ax[1].spines['top'].set_visible(False)\n",
    "    ax[1].spines['right'].set_visible(False)\n",
    "    ax[1].axvline(x=35, color='k',alpha=0.7,linewidth=1)\n",
    "    ax[1].axvline(x=40, color='k',alpha=0.7,linewidth=1)\n",
    "    #remove background color\n",
    "    fig.patch.set_alpha(0)\n",
    "    #add spacing between the two subplots\n",
    "    plt.subplots_adjust(wspace=0.2)\n",
    "    plt.show()\n",
    "\n",
    "    figsize_inch = (figsize_mm[0]/25.4, figsize_mm[1]/25.4)\n",
    "    fig,ax=plt.subplots(1,2,figsize=figsize_inch)\n",
    "    ax[0].imshow(sorted_norm_array_fam,aspect='auto',cmap=cmap)\n",
    "    # ax[0].set_ylabel('Cell #',fontsize=20)\n",
    "    ax[0].set_yticks([0,(len(sorted_norm_array_fam))-1],[1,len(sorted_norm_array_fam)],fontsize=SVG_TICKS)\n",
    "    if strain=='SST':\n",
    "        ax[0].set_xticks([0,39],[0,160],fontsize=SVG_TICKS)\n",
    "    else:\n",
    "        ax[0].set_xticks([])\n",
    "\n",
    "    ax[0].spines['top'].set_visible(False)\n",
    "    ax[0].spines['right'].set_visible(False)\n",
    "    ax[0].axvline(x=35, color='k',alpha=0.7,linewidth=1)\n",
    "    ax[0].axvline(x=40, color='k',alpha=0.7,linewidth=1)\n",
    "\n",
    "    ax[1].imshow(sorted_norm_array_nov,aspect='auto',cmap=cmap)\n",
    "    ax[1].set_yticks([])\n",
    "    if strain=='SST':\n",
    "        ax[1].set_xticks([0,39],[0,160],fontsize=SVG_TICKS)\n",
    "    else:\n",
    "        ax[1].set_xticks([])\n",
    "\n",
    "    ax[1].spines['top'].set_visible(False)\n",
    "    ax[1].spines['right'].set_visible(False)\n",
    "    ax[1].axvline(x=35, color='k',alpha=0.7,linewidth=1)\n",
    "    ax[1].axvline(x=40, color='k',alpha=0.7,linewidth=1)\n",
    "    #remove background color\n",
    "    fig.patch.set_alpha(0)\n",
    "    #add spacing between the two subplots\n",
    "    plt.subplots_adjust(wspace=0.2)\n",
    "    plt.show()\n",
    "\n",
    "    \n",
    "\n",
    "\n",
    "\n",
    "\n",
    "\n"
   ]
  },
  {
   "cell_type": "code",
   "execution_count": null,
   "id": "7c864630",
   "metadata": {},
   "outputs": [
    {
     "data": {
      "image/png": "[encoded data removed]",
      "text/plain": [
       "<Figure size 113.386x85.0394 with 2 Axes>"
      ]
     },
     "metadata": {},
     "output_type": "display_data"
    },
    {
     "data": {
      "image/png": "[encoded data removed]",
      "text/plain": [
       "<Figure size 113.386x85.0394 with 2 Axes>"
      ]
     },
     "metadata": {},
     "output_type": "display_data"
    },
    {
     "data": {
      "image/png": "[encoded data removed]",
      "text/plain": [
       "<Figure size 113.386x85.0394 with 2 Axes>"
      ]
     },
     "metadata": {},
     "output_type": "display_data"
    },
    {
     "data": {
      "image/png": "[encoded data removed]",
      "text/plain": [
       "<Figure size 113.386x85.0394 with 2 Axes>"
      ]
     },
     "metadata": {},
     "output_type": "display_data"
    }
   ],
   "source": [
    "# SVG format\n",
    "for strain in ['CKII','SST']:\n",
    "    if strain=='CKII':\n",
    "        spine_color=PYR_COLOR\n",
    "        cmap = 'OrRd'\n",
    "        mat_to_plot_reg1=CKII_reg1 ; mat_to_plot_reg2=CKII_reg2 ; mat_to_plot_fam=CKII_nov_nov_tuned ; mat_to_plot_nov=CKII_fam_nov_tuned\n",
    "    else:\n",
    "        spine_color=IN_COLOR\n",
    "        cmap = 'GnBu'\n",
    "        mat_to_plot_reg1=SST_reg1 ; mat_to_plot_reg2=SST_reg2 ; mat_to_plot_fam=SST_nov_nov_tuned ; mat_to_plot_nov=SST_fam_nov_tuned\n",
    "\n",
    "    norm_mat_to_plot_reg1=np.array([normalize(FR_vec) for FR_vec in mat_to_plot_reg1[1:]]) #remove empty first row\n",
    "    norm_mat_to_plot_reg2=np.array([normalize(FR_vec) for FR_vec in mat_to_plot_reg2[1:]])\n",
    "    norm_mat_to_plot_fam=np.array([normalize(FR_vec) for FR_vec in mat_to_plot_fam[1:]])\n",
    "    norm_mat_to_plot_nov=np.array([normalize(FR_vec) for FR_vec in mat_to_plot_nov[1:]])\n",
    "\n",
    "    #if a row is NaN, replace it with zeros\n",
    "    norm_mat_to_plot_reg1[np.isnan(norm_mat_to_plot_reg1)]=0 ; norm_mat_to_plot_reg2[np.isnan(norm_mat_to_plot_reg2)]=0\n",
    "    norm_mat_to_plot_fam[np.isnan(norm_mat_to_plot_fam)]=0; norm_mat_to_plot_nov[np.isnan(norm_mat_to_plot_nov)]=0\n",
    "    sorted_norm_array_reg1,sorted_indices_reg1 = sort_rows_by_max_index(norm_mat_to_plot_reg1)\n",
    "    sorted_norm_array_reg2=norm_mat_to_plot_reg2[sorted_indices_reg1]\n",
    "    sorted_norm_array_fam,sorted_indices_fam = sort_rows_by_max_index(norm_mat_to_plot_fam)\n",
    "    sorted_norm_array_nov=norm_mat_to_plot_nov[sorted_indices_fam]\n",
    "\n",
    "    #plot as two subplots \n",
    "\n",
    "    # figsize_mm = (58,40) - original size\n",
    "    figsize_mm = (40,30)\n",
    "    figsize_inch = (figsize_mm[0]/25.4, figsize_mm[1]/25.4)\n",
    "    fig,ax=plt.subplots(1,2,figsize=figsize_inch)\n",
    "    ax[0].imshow(sorted_norm_array_reg1,aspect='auto',cmap=cmap)\n",
    "    ax[0].set_yticks([0,(len(sorted_norm_array_reg1))-1],[1,len(sorted_norm_array_reg1)],fontsize=SVG_TICKS)\n",
    "    if strain=='SST':\n",
    "        ax[0].set_xticks([0,47],[0,160],fontsize=SVG_TICKS)\n",
    "    else:\n",
    "        ax[0].set_xticks([])\n",
    "\n",
    "    ax[0].spines['top'].set_visible(False)\n",
    "    ax[0].spines['right'].set_visible(False)\n",
    "    ax[0].axvline(x=35, color='k',alpha=0.7,linewidth=1)\n",
    "    ax[0].axvline(x=40, color='k',alpha=0.7,linewidth=1)\n",
    "\n",
    "    ax[1].imshow(sorted_norm_array_reg2,aspect='auto',cmap=cmap)\n",
    "    ax[1].set_yticks([])\n",
    "    if strain=='SST':\n",
    "        ax[1].set_xticks([0,46],[0,160],fontsize=SVG_TICKS)\n",
    "    else:\n",
    "        ax[1].set_xticks([])\n",
    "\n",
    "    #remove top and right spines\n",
    "    ax[1].spines['top'].set_visible(False)\n",
    "    ax[1].spines['right'].set_visible(False)\n",
    "    ax[1].axvline(x=35, color='k',alpha=0.7,linewidth=1)\n",
    "    ax[1].axvline(x=40, color='k',alpha=0.7,linewidth=1)\n",
    "    #remove background color\n",
    "    fig.patch.set_alpha(0)\n",
    "    #add spacing between the two subplots\n",
    "    plt.subplots_adjust(wspace=0.2)\n",
    "    plt.show()\n",
    "\n",
    "    figsize_inch = (figsize_mm[0]/25.4, figsize_mm[1]/25.4)\n",
    "    fig,ax=plt.subplots(1,2,figsize=figsize_inch)\n",
    "    ax[0].imshow(sorted_norm_array_nov,aspect='auto',cmap=cmap)\n",
    "    # ax[0].set_ylabel('Cell #',fontsize=20)\n",
    "    ax[0].set_yticks([0,(len(sorted_norm_array_nov))-1],[1,len(sorted_norm_array_nov)],fontsize=SVG_TICKS)\n",
    "    if strain=='SST':\n",
    "        ax[0].set_xticks([0,46],[0,160],fontsize=SVG_TICKS)\n",
    "    else:\n",
    "        ax[0].set_xticks([])\n",
    "\n",
    "    ax[0].spines['top'].set_visible(False)\n",
    "    ax[0].spines['right'].set_visible(False)\n",
    "    ax[0].axvline(x=35, color='k',alpha=0.7,linewidth=1)\n",
    "    ax[0].axvline(x=40, color='k',alpha=0.7,linewidth=1)\n",
    "\n",
    "    ax[1].imshow(sorted_norm_array_fam,aspect='auto',cmap=cmap)\n",
    "    ax[1].set_yticks([])\n",
    "    if strain=='SST':\n",
    "        ax[1].set_xticks([0,46],[0,160],fontsize=SVG_TICKS)\n",
    "    else:\n",
    "        ax[1].set_xticks([])\n",
    "\n",
    "    ax[1].spines['top'].set_visible(False)\n",
    "    ax[1].spines['right'].set_visible(False)\n",
    "    ax[1].axvline(x=35, color='k',alpha=0.7,linewidth=1)\n",
    "    ax[1].axvline(x=40, color='k',alpha=0.7,linewidth=1)\n",
    "\n",
    "    #remove background color\n",
    "    fig.patch.set_alpha(0)\n",
    "\n",
    "   \n",
    "    #add spacing between the two subplots\n",
    "    plt.subplots_adjust(wspace=0.2)\n",
    "    plt.show()\n",
    "\n",
    "    \n",
    "    if strain=='CKII':\n",
    "        CKII_sorterd_norm_array_reg1=sorted_norm_array_reg1\n",
    "        CKII_sorterd_norm_array_reg2=sorted_norm_array_reg2\n",
    "        CKII_sorterd_norm_array_fam=sorted_norm_array_fam\n",
    "        CKII_sorterd_norm_array_nov=sorted_norm_array_nov\n",
    "\n",
    "    else:\n",
    "        SST_sorterd_norm_array_reg1=sorted_norm_array_reg1\n",
    "        SST_sorterd_norm_array_reg2=sorted_norm_array_reg2\n",
    "        SST_sorterd_norm_array_fam=sorted_norm_array_fam\n",
    "        SST_sorterd_norm_array_nov=sorted_norm_array_nov\n",
    "\n",
    "\n",
    "\n",
    "\n"
   ]
  },
  {
   "cell_type": "markdown",
   "id": "07468b63",
   "metadata": {},
   "source": [
    "### Auto spatail correlation"
   ]
  },
  {
   "cell_type": "code",
   "execution_count": null,
   "id": "2709f783",
   "metadata": {},
   "outputs": [],
   "source": [
    "#find the correlation between each two rows of the matrix\n",
    "CKII_reg1_arr=np.array(CKII_reg1[1:]);CKII_reg2_arr=np.array(CKII_reg2[1:]);CKII_fam_arr=np.array(CKII_fam[1:]);CKII_nov_arr=np.array(CKII_nov[1:])\n",
    "SST_reg1_arr=np.array(SST_reg1[1:]);SST_reg2_arr=np.array(SST_reg2[1:]);SST_fam_arr=np.array(SST_fam[1:]);SST_nov_arr=np.array(SST_nov[1:])\n",
    "\n",
    "CKII_reg1_reg2=[np.corrcoef(CKII_reg1_arr[i],CKII_reg2_arr[i])[0,1] for i in np.arange(CKII_reg1_arr.shape[0])]\n",
    "CKII_fam_nov=[np.corrcoef(CKII_fam_arr[i],CKII_nov_arr[i])[0,1] for i in np.arange(CKII_fam_arr.shape[0])]\n",
    "SST_reg1_reg2=[np.corrcoef(SST_reg1_arr[i],SST_reg2_arr[i])[0,1] for i in np.arange(SST_reg1_arr.shape[0])]\n",
    "SST_fam_nov=[np.corrcoef(SST_fam_arr[i],SST_nov_arr[i])[0,1] for i in np.arange(SST_fam_arr.shape[0])]\n",
    "\n",
    "             "
   ]
  },
  {
   "cell_type": "code",
   "execution_count": null,
   "id": "c61d398c",
   "metadata": {},
   "outputs": [
    {
     "data": {
      "image/png": "[encoded data removed]",
      "text/plain": [
       "<Figure size 70.8661x70.8661 with 1 Axes>"
      ]
     },
     "metadata": {},
     "output_type": "display_data"
    },
    {
     "name": "stdout",
     "output_type": "stream",
     "text": [
      "Ttest_indResult(statistic=6.721735713670524, pvalue=6.905677543403266e-10)\n",
      "Ttest_indResult(statistic=3.6279152861328963, pvalue=0.0006703037225330963)\n",
      "ShapiroResult(statistic=0.977882981300354, pvalue=0.23522189259529114)\n",
      "ShapiroResult(statistic=0.954200029373169, pvalue=0.0633586198091507)\n",
      "ShapiroResult(statistic=0.9531617164611816, pvalue=0.12202391028404236)\n",
      "ShapiroResult(statistic=0.9646981954574585, pvalue=0.7733026742935181)\n"
     ]
    }
   ],
   "source": [
    "# SVG format\n",
    "figsize_mm = (25,25)\n",
    "figsize_inch = (figsize_mm[0]/25.4, figsize_mm[1]/25.4)\n",
    "plt.figure(figsize=figsize_inch)\n",
    "plt.bar([0,1,2,3],[np.nanmean(CKII_reg1_reg2),np.nanmean(CKII_fam_nov),np.nanmean(SST_reg1_reg2),np.nanmean(SST_fam_nov)],color=[PYR_COLOR,'indianred',IN_COLOR,'cornflowerblue'],yerr=[stats.sem(CKII_reg1_reg2,nan_policy='omit'),stats.sem(CKII_fam_nov,nan_policy='omit'),stats.sem(SST_reg1_reg2,nan_policy='omit'),stats.sem(SST_fam_nov,nan_policy='omit')],error_kw=dict(lw=1,capsize=1.5, capthick=0.8))\n",
    "\n",
    "plt.yticks([0,0.4,0.8],[0,0.4,0.8],fontsize=SVG_TICKS)\n",
    "plt.xticks([])\n",
    "\n",
    "#add significance stars\n",
    "x1, x2, x3, x4= 0, 1, 2, 3\n",
    "y_max = 0.65\n",
    "y, h, col = y_max, 0.02, 'k'\n",
    "plt.plot([x1, x1, x2, x2], [y, y, y, y], lw=0.5, c=col)\n",
    "plt.text((x1+x2-0.1)*.5, y+0.001, \"***\", ha='center', va='bottom', color=col, fontsize=SVG_TICKS)\n",
    "\n",
    "y3=y+0.1\n",
    "plt.plot([x3,x3,x4,x4], [y, y, y, y], lw=0.5, c=col)\n",
    "plt.text((x3+x4)*.5, y+0.001, \"***\", ha='center', va='bottom', color=col, fontsize=SVG_TICKS)\n",
    "plt.ylim(0,0.85)\n",
    "#remove top and right spines\n",
    "plt.gca().spines['top'].set_visible(False)\n",
    "plt.gca().spines['right'].set_visible(False)\n",
    "# plt.savefig(r\"Z:/Adam-Lab-Shared/Presentations/Rotem/PPT slides of data by subjects/vectorized_figures/4-Remapping/Panels/Pop. heatmaps/ASC.svg\",dpi=300,format='svg',bbox_inches='tight')\n",
    "plt.show()\n",
    "\n",
    "# print p values\n",
    "print(stats.ttest_ind(CKII_reg1_reg2,CKII_fam_nov,nan_policy='omit'))\n",
    "print(stats.ttest_ind(SST_reg1_reg2,SST_fam_nov))\n",
    "\n",
    "# shapiro-wilk test for normality\n",
    "print(stats.shapiro(CKII_reg1_reg2))\n",
    "print(stats.shapiro(CKII_fam_nov))\n",
    "\n",
    "print(stats.shapiro(SST_reg1_reg2))\n",
    "print(stats.shapiro(SST_fam_nov))\n",
    "\n",
    "\n",
    "\n",
    "\n"
   ]
  },
  {
   "cell_type": "code",
   "execution_count": null,
   "id": "137200d5",
   "metadata": {},
   "outputs": [],
   "source": [
    "data_dict = {'CKII regs': CKII_reg1_reg2,\n",
    "             'CKII fam-nov': CKII_fam_nov,\n",
    "             'SST regs': SST_reg1_reg2,\n",
    "             'SST fam-nov': SST_fam_nov}\n",
    "colors = [PYR_COLOR, 'indianred', IN_COLOR, 'cornflowerblue']"
   ]
  },
  {
   "cell_type": "code",
   "execution_count": null,
   "id": "62ec617a",
   "metadata": {},
   "outputs": [
    {
     "data": {
      "image/png": "[encoded data removed]",
      "text/plain": [
       "<Figure size 70.8661x70.8661 with 1 Axes>"
      ]
     },
     "metadata": {},
     "output_type": "display_data"
    }
   ],
   "source": [
    "fig,ax=plot_violin_with_scatter_ver2(\n",
    "    data_dict, colors,\n",
    "    figsize_mm=(25, 25), width=0.5, ylim=[-0.4, 1.2],\n",
    "    linewidth=0.5, jitter=0.03, scatter_size=2, alpha=0.5,\n",
    "    edgecolor='gray', inner_linewidth=0.5, yticks=[0, 0.5, 1], ylabel=None,\n",
    "    significance_pairs=[(0,1), (2,3)],\n",
    "    significance_labels=['***', '***'],\n",
    "    SVG_TICKS=SVG_TICKS, SVG_LABELS=SVG_LABELS\n",
    ")\n",
    "\n"
   ]
  },
  {
   "cell_type": "code",
   "execution_count": null,
   "id": "429a4dd3",
   "metadata": {},
   "outputs": [
    {
     "data": {
      "image/png": "[encoded data removed]",
      "text/plain": [
       "<Figure size 70.8661x70.8661 with 1 Axes>"
      ]
     },
     "metadata": {},
     "output_type": "display_data"
    },
    {
     "name": "stdout",
     "output_type": "stream",
     "text": [
      "8.210709089406557e-10\n",
      "0.00017799722073321304\n",
      "ShapiroResult(statistic=0.9767211675643921, pvalue=0.2023470252752304)\n",
      "ShapiroResult(statistic=0.9561947584152222, pvalue=0.07599242776632309)\n",
      "ShapiroResult(statistic=0.9412569999694824, pvalue=0.05057762190699577)\n",
      "ShapiroResult(statistic=0.9582749605178833, pvalue=0.662446141242981)\n"
     ]
    }
   ],
   "source": [
    "# non-tuned cells - First run the above analysis on nun-tuned cells...\n",
    "figsize_mm = (25,25)\n",
    "figsize_inch = (figsize_mm[0]/25.4, figsize_mm[1]/25.4)\n",
    "plt.figure(figsize=figsize_inch)\n",
    "plt.bar([0,1,2,3],[np.nanmean(CKII_reg1_reg2),np.nanmean(CKII_fam_nov),np.nanmean(SST_reg1_reg2),np.nanmean(SST_fam_nov)],color=[PYR_COLOR,'indianred',IN_COLOR,'cornflowerblue'],yerr=[stats.sem(CKII_reg1_reg2,nan_policy='omit'),stats.sem(CKII_fam_nov,nan_policy='omit'),stats.sem(SST_reg1_reg2,nan_policy='omit'),stats.sem(SST_fam_nov,nan_policy='omit')],error_kw=dict(lw=1,capsize=1.5, capthick=0.8))\n",
    "\n",
    "plt.yticks([0,0.4,0.8],[0,0.4,0.8],fontsize=SVG_TICKS)\n",
    "plt.xticks([])\n",
    "\n",
    "#add significance stars\n",
    "x1, x2, x3, x4= 0, 1, 2, 3\n",
    "y_max = 0.65\n",
    "y, h, col = y_max, 0.02, 'k'\n",
    "plt.plot([x1, x1, x2, x2], [y, y, y, y], lw=0.5, c=col)\n",
    "plt.text((x1+x2-0.1)*.5, y+0.001, \"n.s\", ha='center', va='bottom', color=col, fontsize=SVG_TICKS)\n",
    "\n",
    "y3=y+0.1\n",
    "plt.plot([x3,x3,x4,x4], [y, y, y, y], lw=0.5, c=col)\n",
    "plt.text((x3+x4)*.5, y+0.001, \"*\", ha='center', va='bottom', color=col, fontsize=SVG_TICKS)\n",
    "plt.ylim(0,0.85)\n",
    "#remove top and right spines\n",
    "plt.gca().spines['top'].set_visible(False)\n",
    "plt.gca().spines['right'].set_visible(False)\n",
    "# plt.savefig(r\"Z:/Adam-Lab-Shared/Presentations/Rotem/PPT slides of data by subjects/vectorized_figures/4-Remapping/Panels/Pop. heatmaps/ASC_untuned.svg\",dpi=300,format='svg',bbox_inches='tight')\n",
    "plt.show()\n",
    "\n",
    "# print p values\n",
    "print(stats.ttest_ind(CKII_reg1_reg2,CKII_fam_nov,nan_policy='omit').pvalue)\n",
    "print(stats.ttest_ind(SST_reg1_reg2,SST_fam_nov).pvalue)\n",
    "\n",
    "# shapiro-wilk test for normality\n",
    "print(stats.shapiro(CKII_reg1_reg2))\n",
    "print(stats.shapiro(CKII_fam_nov))\n",
    "\n",
    "print(stats.shapiro(SST_reg1_reg2))\n",
    "print(stats.shapiro(SST_fam_nov))\n",
    "\n",
    "\n",
    "\n",
    "\n"
   ]
  },
  {
   "cell_type": "markdown",
   "id": "b59792fe",
   "metadata": {},
   "source": [
    "## Prop. of place cells"
   ]
  },
  {
   "cell_type": "markdown",
   "id": "09508b04",
   "metadata": {},
   "source": [
    "#### Proportion of tuned cells in each half for each condition"
   ]
  },
  {
   "cell_type": "code",
   "execution_count": null,
   "id": "8ed6626c",
   "metadata": {},
   "outputs": [],
   "source": [
    "reg_cells = [cell for cell in result.keys() if cell.remapping == False and cell.session_num == 0]\n",
    "remap_cells = [cell for cell in result.keys() if cell.remapping == True and cell.session_num == 0 and cell.calc_trial_num_within_same_day() <=5]"
   ]
  },
  {
   "cell_type": "code",
   "execution_count": null,
   "id": "196f86ff",
   "metadata": {},
   "outputs": [
    {
     "data": {
      "image/png": "[encoded data removed]",
      "text/plain": [
       "<Figure size 56.6929x70.8661 with 1 Axes>"
      ]
     },
     "metadata": {},
     "output_type": "display_data"
    },
    {
     "name": "stdout",
     "output_type": "stream",
     "text": [
      "Strain: CKII\n",
      "Proportion of place cells in reg1 vs reg2: reg1=0.24, reg2=0.23, p=0.8254028702971065\n",
      "Proportion of place cells in fam vs nov: fam=0.32, nov=0.25, p=0.21351570557105382\n"
     ]
    },
    {
     "data": {
      "image/png": "[encoded data removed]",
      "text/plain": [
       "<Figure size 56.6929x70.8661 with 1 Axes>"
      ]
     },
     "metadata": {},
     "output_type": "display_data"
    },
    {
     "name": "stdout",
     "output_type": "stream",
     "text": [
      "Strain: SST\n",
      "Proportion of place cells in reg1 vs reg2: reg1=0.2, reg2=0.2, p=0.8972448026405802\n",
      "Proportion of place cells in fam vs nov: fam=0.12, nov=0.22, p=0.09687189402411288\n"
     ]
    }
   ],
   "source": [
    "figsize_mm = (20, 25)\n",
    "figsize_inch = (figsize_mm[0] / 25.4, figsize_mm[1] / 25.4)\n",
    "\n",
    "for strain in [\"CKII\", \"SST\"]:\n",
    "    num_PCs_fam = 0; num_PCs_nov = 0\n",
    "    num_PCs_reg1 = 0; num_PCs_reg2 = 0\n",
    "    remap_cells_strain = [cell for cell in remap_cells if cell.strain == strain]\n",
    "    reg_cells_strain = [cell for cell in reg_cells if cell.strain == strain]\n",
    "    for cell in remap_cells_strain:\n",
    "        if is_PC_with_halves_all_cells[cell.strain][cell.name]['first_half']:\n",
    "            num_PCs_fam += 1\n",
    "        if is_PC_with_halves_all_cells[cell.strain][cell.name]['second_half']:\n",
    "            num_PCs_nov += 1\n",
    "    for cell in reg_cells_strain:\n",
    "        if is_PC_with_halves_all_cells[cell.strain][cell.name]['first_half']:\n",
    "            num_PCs_reg1 += 1\n",
    "        if is_PC_with_halves_all_cells[cell.strain][cell.name]['second_half']:\n",
    "            num_PCs_reg2 += 1\n",
    "\n",
    "    plt.figure(figsize=figsize_inch)\n",
    "    barWidth = 0.25\n",
    "    \n",
    "    # Swap control and remap order: Control first (reg), Remap second\n",
    "    bars_fam = [num_PCs_reg1/len(reg_cells_strain), num_PCs_fam/len(remap_cells_strain)]\n",
    "    bars_nov = [num_PCs_reg2/len(reg_cells_strain), num_PCs_nov/len(remap_cells_strain)]\n",
    "    r1 = np.arange(len(bars_fam))\n",
    "    r2 = [x + barWidth for x in r1]\n",
    "    \n",
    "    SE_fam = np.sqrt(bars_fam[0]*(1-bars_fam[0])/len(reg_cells_strain))\n",
    "    SE_reg1 = np.sqrt(bars_fam[1]*(1-bars_fam[1])/len(remap_cells_strain))\n",
    "    SE_nov = np.sqrt(bars_nov[0]*(1-bars_nov[0])/len(reg_cells_strain))\n",
    "    SE_reg2 = np.sqrt(bars_nov[1]*(1-bars_nov[1])/len(remap_cells_strain))\n",
    "    \n",
    "    if strain == 'CKII':\n",
    "        plt.bar(r1, bars_fam, color=PYR_COLOR, width=barWidth, label='1st half', yerr=[SE_fam, SE_reg1], error_kw=dict(lw=1,capsize=1.5, capthick=0.8))\n",
    "        plt.bar(r2, bars_nov, color='0.6', width=barWidth, label='2nd half', yerr=[SE_nov, SE_reg2], error_kw=dict(lw=1,capsize=1.5, capthick=0.8))\n",
    "    else:\n",
    "        plt.bar(r1, bars_fam, color=IN_COLOR, width=barWidth, label='1st half', yerr=[SE_fam, SE_reg1], error_kw=dict(lw=1,capsize=1.5, capthick=0.8))\n",
    "        plt.bar(r2, bars_nov, color='0.6', width=barWidth, label='2nd half', yerr=[SE_nov, SE_reg2], error_kw=dict(lw=1,capsize=1.5, capthick=0.8))\n",
    "\n",
    "    # Updated x-axis labels to match swapped order\n",
    "    plt.xticks([r + barWidth*0.5 for r in range(len(bars_fam))], ['control', 'remap'], fontsize=SVG_LABELS)\n",
    "    plt.yticks([0, 0.2], [0, 0.2], fontsize=SVG_TICKS)\n",
    "    \n",
    "    ax = plt.gca()\n",
    "    ax.spines['top'].set_visible(False)\n",
    "    ax.spines['right'].set_visible(False)\n",
    "    ylim = plt.ylim(0, 0.42)\n",
    "    plt.text(barWidth*0.5, ylim[1]*0.9, 'n.s', fontsize=SVG_LABELS, ha='center')\n",
    "    plt.text(1 + barWidth*0.5, ylim[1]*0.9, 'n.s', fontsize=SVG_LABELS, ha='center')\n",
    "    \n",
    "    plt.plot([0, barWidth], [ylim[1]*0.85, ylim[1]*0.85], color='black', linewidth=1)\n",
    "    plt.plot([1, 1+barWidth], [ylim[1]*0.85, ylim[1]*0.85], color='black', linewidth=1)\n",
    "    \n",
    "    plt.show()\n",
    "    \n",
    "    print(f\"Strain: {strain}\")\n",
    "    from statsmodels.stats.proportion import proportions_ztest\n",
    "    \n",
    "    # Updated stats to match swapped order\n",
    "    count = np.array([num_PCs_reg1, num_PCs_reg2])\n",
    "    nobs = np.array([len(reg_cells_strain), len(reg_cells_strain)])\n",
    "    z, p = proportions_ztest(count, nobs)\n",
    "    print(f\"Proportion of place cells in reg1 vs reg2: reg1={round(num_PCs_reg1/len(reg_cells_strain),2)}, reg2={round(num_PCs_reg2/len(reg_cells_strain),2)}, p={p}\")\n",
    "    \n",
    "    count = np.array([num_PCs_fam, num_PCs_nov])\n",
    "    nobs = np.array([len(remap_cells_strain), len(remap_cells_strain)])\n",
    "    z, p = proportions_ztest(count, nobs)\n",
    "    print(f\"Proportion of place cells in fam vs nov: fam={round(num_PCs_fam/len(remap_cells_strain),2)}, nov={round(num_PCs_nov/len(remap_cells_strain),2)}, p={p}\")\n"
   ]
  },
  {
   "cell_type": "markdown",
   "id": "332774f9",
   "metadata": {},
   "source": [
    "## Speed Corr diff violin - remap"
   ]
  },
  {
   "cell_type": "code",
   "execution_count": null,
   "id": "0741cea6",
   "metadata": {},
   "outputs": [],
   "source": [
    "reg_cells = [cell for cell in result.keys() if cell.remapping==False and cell.session_num==0]\n",
    "remap_cells = [cell for cell in result.keys() if cell.remapping==True and cell.session_num==0 and cell.calc_trial_num_within_same_day()<=5]\n",
    "SST_reg_cells = [cell for cell in reg_cells if cell.strain == \"SST\"]\n",
    "SST_remap_cells = [cell for cell in remap_cells if cell.strain == \"SST\"]\n",
    "\n",
    "with open('data_analysis/result_dictionaries/speed_r_vals_with_halves_all_cells.pkl', 'rb') as f:\n",
    "    speed_r_vals_with_halves_all_cells = pickle.load(f)\n",
    "with open('data_analysis/result_dictionaries/inst_speed_r_vals_with_halves_all_cells.pkl', 'rb') as f:\n",
    "    inst_speed_r_vals_with_halves_all_cells = pickle.load(f)"
   ]
  },
  {
   "cell_type": "markdown",
   "id": "7835772d",
   "metadata": {},
   "source": [
    "### linear fit r"
   ]
  },
  {
   "cell_type": "code",
   "execution_count": null,
   "id": "c3bbf133",
   "metadata": {},
   "outputs": [],
   "source": [
    "strain = \"SST\"\n",
    "r_vals_frst_half_reg = []; r_vals_scnd_half_reg = []\n",
    "r_vals_frst_half_reg_all_cells = []; r_vals_scnd_half_reg_all_cells = []\n",
    "for cell in SST_reg_cells:\n",
    "    r_val_frst = speed_r_vals_with_halves_all_cells[cell.strain][cell.name]['first_half']\n",
    "    r_val_scnd = speed_r_vals_with_halves_all_cells[cell.strain][cell.name]['second_half']\n",
    "    r_vals_frst_half_reg_all_cells.append(r_val_frst)\n",
    "    r_vals_scnd_half_reg_all_cells.append(r_val_scnd)\n",
    "    if is_speed_tuned_with_halves_all_cells[cell.strain][cell.name]['first_half'] == True or \\\n",
    "       is_speed_tuned_with_halves_all_cells[cell.strain][cell.name]['second_half'] == True:\n",
    "        r_vals_frst_half_reg.append(r_val_frst)\n",
    "        r_vals_scnd_half_reg.append(r_val_scnd)\n",
    "\n",
    "r_vals_fam =[]; r_vals_nov = []; r_vals_fam_all_cells = []; r_vals_nov_all_cells = []\n",
    "for cell in SST_remap_cells:\n",
    "    r_val_frst = speed_r_vals_with_halves_all_cells[cell.strain][cell.name]['first_half']\n",
    "    r_val_scnd = speed_r_vals_with_halves_all_cells[cell.strain][cell.name]['second_half']\n",
    "    r_vals_fam_all_cells.append(r_val_frst)\n",
    "    r_vals_nov_all_cells.append(r_val_scnd)\n",
    "    if is_speed_tuned_with_halves_all_cells[cell.strain][cell.name]['first_half'] == True or \\\n",
    "       is_speed_tuned_with_halves_all_cells[cell.strain][cell.name]['second_half'] == True:\n",
    "        r_vals_fam.append(r_val_frst)\n",
    "        r_vals_nov.append(r_val_scnd)\n",
    "        \n"
   ]
  },
  {
   "cell_type": "markdown",
   "id": "a0f11e14",
   "metadata": {},
   "source": [
    "### inst. r"
   ]
  },
  {
   "cell_type": "code",
   "execution_count": null,
   "id": "c2d0ba04",
   "metadata": {},
   "outputs": [],
   "source": [
    "strain = \"SST\"\n",
    "inst_r_vals_frst_half_reg = []; inst_r_vals_scnd_half_reg = []\n",
    "inst_r_vals_frst_half_reg_all_cells = []; inst_r_vals_scnd_half_reg_all_cells = []\n",
    "for cell in SST_reg_cells:\n",
    "    r_val_frst = inst_speed_r_vals_with_halves_all_cells[cell.strain][cell.name]['first_half']\n",
    "    r_val_scnd = inst_speed_r_vals_with_halves_all_cells[cell.strain][cell.name]['second_half']\n",
    "    inst_r_vals_frst_half_reg_all_cells.append(r_val_frst)\n",
    "    inst_r_vals_scnd_half_reg_all_cells.append(r_val_scnd)\n",
    "    if is_speed_tuned_with_halves_all_cells[cell.strain][cell.name]['first_half'] == True or \\\n",
    "       is_speed_tuned_with_halves_all_cells[cell.strain][cell.name]['second_half'] == True:\n",
    "        inst_r_vals_frst_half_reg.append(r_val_frst)\n",
    "        inst_r_vals_scnd_half_reg.append(r_val_scnd)\n",
    "\n",
    "inst_r_vals_fam =[]; inst_r_vals_nov = []\n",
    "inst_r_vals_fam_all_cells = []; inst_r_vals_nov_all_cells = []\n",
    "for cell in SST_remap_cells:\n",
    "    r_val_frst = inst_speed_r_vals_with_halves_all_cells[cell.strain][cell.name]['first_half']\n",
    "    r_val_scnd = inst_speed_r_vals_with_halves_all_cells[cell.strain][cell.name]['second_half']\n",
    "    inst_r_vals_fam_all_cells.append(r_val_frst)\n",
    "    inst_r_vals_nov_all_cells.append(r_val_scnd)\n",
    "    if is_speed_tuned_with_halves_all_cells[cell.strain][cell.name]['first_half'] == True or \\\n",
    "       is_speed_tuned_with_halves_all_cells[cell.strain][cell.name]['second_half'] == True:\n",
    "        inst_r_vals_fam.append(r_val_frst)\n",
    "        inst_r_vals_nov.append(r_val_scnd)\n",
    "        \n"
   ]
  },
  {
   "cell_type": "code",
   "execution_count": null,
   "id": "a9a935dd",
   "metadata": {},
   "outputs": [
    {
     "name": "stdout",
     "output_type": "stream",
     "text": [
      "Reg ST:\n",
      "  p-value: 0.3753\n",
      "\n",
      "Remap ST:\n",
      "  p-value: 0.3079\n",
      "\n",
      "Reg (inst) ST:\n",
      "  p-value: 0.0001\n",
      "\n",
      "Remap (inst) ST:\n",
      "  p-value: 0.0156\n",
      "\n",
      "Reg ST (all cells):\n",
      "  p-value: 0.0001\n",
      "\n",
      "Remap ST (all cells):\n",
      "  p-value: 0.0001\n",
      "\n",
      "Reg (inst) ST (all cells):\n",
      "  p-value: 0.0001\n",
      "\n",
      "Remap (inst) ST (all cells):\n",
      "  p-value: 0.0001\n",
      "\n"
     ]
    }
   ],
   "source": [
    "def generate_n_shuffled_means_on_array_diffs(array1, array2, n_shuffles=10000):\n",
    "    \"\"\"\n",
    "    Generate n shuffled means on the differences between two arrays.\n",
    "    \"\"\"\n",
    "    diffs = np.abs(array1 - array2)\n",
    "    observed_mean = np.mean(diffs)\n",
    "    shuffled_means = []\n",
    "    for _ in range(n_shuffles):\n",
    "        shuffled_array1 = np.random.permutation(array1)\n",
    "        shuffled_mean = np.mean(np.abs(shuffled_array1 - array2))\n",
    "        shuffled_means.append(shuffled_mean)\n",
    "    shuffled_means = np.array(shuffled_means)\n",
    "    p_value = (np.sum(shuffled_means <= observed_mean) + 1) / (n_shuffles + 1)\n",
    "    return diffs,observed_mean, shuffled_means, p_value\n",
    "\n",
    "# Define datasets\n",
    "datasets = [\n",
    "    ('Reg ST', r_vals_frst_half_reg, r_vals_scnd_half_reg),\n",
    "    ('Remap ST', r_vals_fam, r_vals_nov),\n",
    "    ('Reg (inst) ST', inst_r_vals_frst_half_reg, inst_r_vals_scnd_half_reg),\n",
    "    ('Remap (inst) ST', inst_r_vals_fam, inst_r_vals_nov),\n",
    "\n",
    "]\n",
    "\n",
    "datasets_all_cells = [\n",
    "    ('Reg ST (all cells)', r_vals_frst_half_reg_all_cells, r_vals_scnd_half_reg_all_cells),\n",
    "    ('Remap ST (all cells)', r_vals_fam_all_cells, r_vals_nov_all_cells),\n",
    "    ('Reg (inst) ST (all cells)', inst_r_vals_frst_half_reg_all_cells, inst_r_vals_scnd_half_reg_all_cells),\n",
    "    ('Remap (inst) ST (all cells)', inst_r_vals_fam_all_cells, inst_r_vals_nov_all_cells),\n",
    "]\n",
    "\n",
    "# Combine all datasets\n",
    "all_datasets = datasets + datasets_all_cells\n",
    "\n",
    "# Initialize result storage\n",
    "results = {}\n",
    "\n",
    "# Loop and compute\n",
    "for name, arr1, arr2 in all_datasets:\n",
    "    diffs,observed_mean, shuffled_means, p_value = generate_n_shuffled_means_on_array_diffs(np.array(arr1), np.array(arr2))\n",
    "    results[name] = {\n",
    "        'diffs': diffs,\n",
    "        'observed_mean': observed_mean,\n",
    "        'shuffled_means': shuffled_means,\n",
    "        'p_value': p_value\n",
    "    }\n",
    "    print(f\"{name}:\")\n",
    "    print(f\"  p-value: {p_value:.4f}\\n\")"
   ]
  },
  {
   "cell_type": "code",
   "execution_count": null,
   "id": "e56bce0c",
   "metadata": {},
   "outputs": [],
   "source": [
    "def plot_W0_W2_violins_with_histograms(result_dict, shuffled_distributions, cell_name,\n",
    "                                       palette=[PYR_COLOR, PYR_COLOR_weak],\n",
    "                                       ylabel=False, yticks=np.arange(-0.5, 1.1, 0.5), ylims=(-0.7, 1.5),\n",
    "                                       save_path=None, SVG_TICKS=6, SVG_LABELS=6, figsize_mm=(12.5, 25),\n",
    "                                       rotation =0, title='',offset=0.3, paired=True, key_type='W0W2'):\n",
    "    from scipy.stats import gaussian_kde, ttest_rel, ttest_ind\n",
    "\n",
    "    # Determine keys based on key_type\n",
    "    if key_type == 'W0W2':\n",
    "        key1, key2 = 'W0_W0', 'W0_W2'\n",
    "        xtick_labels = ['W0-W0', 'W0-W2']\n",
    "    elif key_type == 'RegRemap':\n",
    "        key1, key2 = 'Reg', 'Remap'\n",
    "        xtick_labels = ['Reg', 'Remap']\n",
    "    else:\n",
    "        raise ValueError(\"key_type must be either 'W0W2' or 'RegRemap'\")\n",
    "    if paired:\n",
    "        W0_values = [res[key1] for res in result_dict.values()]\n",
    "        W2_values = [res[key2] for res in result_dict.values()]\n",
    "    else:\n",
    "        W0_values = result_dict[key1]\n",
    "        W2_values = result_dict[key2]\n",
    "    shuffled_means = [np.mean(dist) for dist in shuffled_distributions]\n",
    "\n",
    "    # Stats: paired or unpaired\n",
    "    shapiro_w0 = stats.shapiro(W0_values)[1]\n",
    "    shapiro_w2 = stats.shapiro(W2_values)[1]\n",
    "    print(f\"Shapiro-W0: {shapiro_w0}, Shapiro-W2: {shapiro_w2}\")\n",
    "    if shapiro_w0 < 0.05 or shapiro_w2 < 0.05:\n",
    "        print(\"Data is not normally distributed, using non-parametric test.\")\n",
    "        if paired:\n",
    "            p = stats.wilcoxon(W0_values, W2_values)[1]\n",
    "            print(stats.wilcoxon(W0_values, W2_values))\n",
    "        else:\n",
    "            p = stats.ranksums(W0_values, W2_values)[1]\n",
    "        print(stats.ranksums(W0_values, W2_values))\n",
    "    else:\n",
    "        if paired:\n",
    "            p = ttest_rel(W0_values, W2_values)[1]\n",
    "            print(stats.ttest_rel(W0_values, W2_values))\n",
    "        else:\n",
    "            p = ttest_ind(W0_values, W2_values)[1]\n",
    "            print(stats.ttest_ind(W0_values, W2_values))\n",
    "\n",
    "    # Setup\n",
    "    figsize_inch = (figsize_mm[0] / 25.4, figsize_mm[1] / 25.4)\n",
    "    fig, ax = plt.subplots(figsize=figsize_inch)\n",
    "\n",
    "    # Violin plots\n",
    "    sns.violinplot(data=[W0_values, W2_values], color='white', linewidth=0.5, width=0.5,\n",
    "                   zorder=0, alpha=1, inner=None, ax=ax)\n",
    "    for collection in ax.collections:\n",
    "        collection.set_edgecolor('gray')\n",
    "    for line in ax.lines:\n",
    "        line.set_color('black')\n",
    "        line.set_linewidth(0.5)\n",
    "\n",
    "    # Scatter points with jitter\n",
    "    jitter_0 = np.random.normal(0, 0.02, size=len(W0_values))\n",
    "    jitter_1 = np.random.normal(0, 0.02, size=len(W2_values))\n",
    "    ax.scatter(np.zeros(len(W0_values)) + jitter_0, W0_values, color=palette[0], s=2, alpha=0.8, edgecolors='none')\n",
    "    ax.scatter(np.ones(len(W2_values)) + jitter_1, W2_values, color=palette[1], s=2, alpha=0.8, edgecolors='none')\n",
    "\n",
    "    # Connect lines (only if paired)\n",
    "    if paired:\n",
    "        for i in range(min(len(W0_values), len(W2_values))):\n",
    "            ax.plot([0 + jitter_0[i], 1 + jitter_1[i]], [W0_values[i], W2_values[i]],\n",
    "                    color='gray', alpha=0.5, linewidth=0.5)\n",
    "\n",
    "    # Mean points\n",
    "    ax.scatter(0, np.mean(W0_values), color='k', s=2, zorder=2)\n",
    "    ax.scatter(1, np.mean(W2_values), color='k', s=2, zorder=2)\n",
    "    \n",
    "    #print mean and SEM\n",
    "    mean_w0 = np.mean(W0_values)\n",
    "    sem_w0 = stats.sem(W0_values)\n",
    "    mean_w2 = np.mean(W2_values)\n",
    "    sem_w2 = stats.sem(W2_values)\n",
    "    print(f\"Mean W0: {mean_w0:.3f} ± {sem_w0:.3f}, Mean W2: {mean_w2:.3f} ± {sem_w2:.3f}\")\n",
    "    \n",
    "\n",
    "    # KDE histograms\n",
    "    histogram_offset = offset\n",
    "    for i, (shuffled, x_center) in enumerate(zip(shuffled_distributions, [0, 1])):\n",
    "        kde = gaussian_kde(shuffled)\n",
    "        y_vals = np.linspace(min(shuffled), max(shuffled), 300)\n",
    "        density = kde(y_vals)\n",
    "        density = density / np.max(density) * 0.2\n",
    "        ax.plot(x_center + histogram_offset + density, y_vals, color='k', linewidth=0.7, alpha=0.7)\n",
    "        lower, upper = np.percentile(shuffled, [1, 99])\n",
    "        ax.plot([x_center + histogram_offset, x_center + histogram_offset + 0.2], [lower, lower],\n",
    "                color='k', linestyle='--', linewidth=0.6)\n",
    "        ax.plot([x_center + histogram_offset, x_center + histogram_offset + 0.2], [upper, upper],\n",
    "                color='k', linestyle='--', linewidth=0.6)\n",
    "        obs_mean = np.mean(W0_values) if i == 0 else np.mean(W2_values)\n",
    "        p_val = 2 * min(np.mean(shuffled >= obs_mean), np.mean(shuffled <= obs_mean))\n",
    "        y_peak = y_vals[np.argmax(density)]\n",
    "        if p_val > 0.05:\n",
    "            shuffle_sig = \"n.s.\"\n",
    "        elif p_val < 0.001:\n",
    "            shuffle_sig = \"***\"\n",
    "        elif p_val < 0.01:\n",
    "            shuffle_sig = \"**\"\n",
    "        else:\n",
    "            shuffle_sig = \"*\"\n",
    "        ax.text(x_center + histogram_offset, y_peak, shuffle_sig, ha='center', va='center',\n",
    "                fontsize=SVG_TICKS, rotation=90)\n",
    "\n",
    "    # Y axis\n",
    "    ax.set_ylim(ylims)\n",
    "    ax.set_yticks(yticks)\n",
    "    ax.tick_params(axis='y', labelsize=SVG_TICKS)\n",
    "    ax.set_xticks([0, 1], xtick_labels, fontsize=SVG_TICKS, rotation=rotation)\n",
    "    ax.set_title(title, fontsize=SVG_LABELS)\n",
    "\n",
    "    # Overall significance annotation\n",
    "    y_lim = ax.get_ylim()\n",
    "    x_center = 0.5\n",
    "    if p > 0.05:\n",
    "        sig_label = \"n.s\"\n",
    "    elif p < 0.001:\n",
    "        sig_label = \"***\"\n",
    "    elif p < 0.01:\n",
    "        sig_label = \"**\"\n",
    "    else:\n",
    "        sig_label = \"*\"\n",
    "    ax.text(x_center, y_lim[1] * 0.9, sig_label, ha='center', va='bottom', color='k', fontsize=SVG_TICKS)\n",
    "    #plot a line below the significance label\n",
    "    plt.plot([0, 1], [y_lim[1] * 0.85, y_lim[1] * 0.85], color='k', linewidth=0.5)\n",
    "\n",
    "    if ylabel:\n",
    "        ax.set_ylabel(ylabel, fontsize=SVG_LABELS)\n",
    "    ax.spines['top'].set_visible(False)\n",
    "    ax.spines['right'].set_visible(False)\n",
    "    fig.patch.set_facecolor('none')\n",
    "\n",
    "    if save_path:\n",
    "        plt.savefig(save_path, dpi=300, format=save_path.split('.')[-1], bbox_inches='tight')\n",
    "\n",
    "    return fig, ax\n"
   ]
  },
  {
   "cell_type": "code",
   "execution_count": null,
   "id": "841831d4",
   "metadata": {},
   "outputs": [
    {
     "name": "stdout",
     "output_type": "stream",
     "text": [
      "Shapiro-W0: 6.218797352630645e-07, Shapiro-W2: 0.0037368431221693754\n",
      "Data is not normally distributed, using non-parametric test.\n",
      "RanksumsResult(statistic=-0.8203774460090628, pvalue=0.4120009687998324)\n",
      "Mean W0: 0.142 ± 0.010, Mean W2: 0.162 ± 0.018\n"
     ]
    },
    {
     "data": {
      "image/png": "[encoded data removed]",
      "text/plain": [
       "<Figure size 70.8661x70.8661 with 1 Axes>"
      ]
     },
     "metadata": {},
     "output_type": "display_data"
    }
   ],
   "source": [
    "r_vals_remapping_dict = {\n",
    "    'Reg': results['Reg ST']['diffs'],\n",
    "    'Remap': results['Remap ST']['diffs']\n",
    "}\n",
    "\n",
    "r_vals_remapping_dict_inst = {\n",
    "    'Reg': results['Reg (inst) ST']['diffs'],\n",
    "    'Remap': results['Remap (inst) ST']['diffs']\n",
    "}\n",
    "r_vals_remapping_dict_all_cells = {\n",
    "    'Reg': results['Reg ST (all cells)']['diffs'],\n",
    "    'Remap': results['Remap ST (all cells)']['diffs']\n",
    "}\n",
    "\n",
    "r_vals_remapping_dict_inst_all_cells = {\n",
    "    'Reg': results['Reg (inst) ST (all cells)']['diffs'],\n",
    "    'Remap': results['Remap (inst) ST (all cells)']['diffs']\n",
    "}\n",
    "\n",
    "\n",
    "plot_W0_W2_violins_with_histograms(r_vals_remapping_dict_inst,[results['Reg (inst) ST']['shuffled_means'],\n",
    "                            results['Remap (inst) ST']['shuffled_means']], \"SST\", palette=[IN_COLOR, IN_COLOR_weak], ylabel=\"\",\n",
    "                            yticks=[0,0.2,0.4,0.6], ylims=(-0.3, 0.75),\n",
    "                            save_path=False,\n",
    "                            SVG_TICKS=SVG_TICKS, SVG_LABELS=SVG_LABELS,figsize_mm=(25, 25),offset=0.4,\n",
    "                            paired=False,key_type='RegRemap',title='')\n",
    "fig= plt.gcf()"
   ]
  }
 ],
 "metadata": {
  "language_info": {
   "name": "python"
  }
 },
 "nbformat": 4,
 "nbformat_minor": 5
}
